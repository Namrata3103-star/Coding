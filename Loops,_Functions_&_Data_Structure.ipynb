{
  "nbformat": 4,
  "nbformat_minor": 0,
  "metadata": {
    "colab": {
      "provenance": [],
      "collapsed_sections": [],
      "authorship_tag": "ABX9TyNtHfaXP6GfAt03XnbUMCfx",
      "include_colab_link": true
    },
    "kernelspec": {
      "name": "python3",
      "display_name": "Python 3"
    },
    "language_info": {
      "name": "python"
    }
  },
  "cells": [
    {
      "cell_type": "markdown",
      "metadata": {
        "id": "view-in-github",
        "colab_type": "text"
      },
      "source": [
        "<a href=\"https://colab.research.google.com/github/Namrata3103-star/Coding/blob/main/Loops%2C_Functions_%26_Data_Structure.ipynb\" target=\"_parent\"><img src=\"https://colab.research.google.com/assets/colab-badge.svg\" alt=\"Open In Colab\"/></a>"
      ]
    },
    {
      "cell_type": "code",
      "source": [
        "import random\n",
        "L=random.randint(1,10)\n",
        "count=1\n",
        "for i in range(1,4):\n",
        "  if count<=3:\n",
        "    num=int(input(\"Number:\"))\n",
        "    if num>L:\n",
        "      print(\"TOO HIGH\")\n",
        "    elif num<L:\n",
        "      print(\"TOO SMALL\")\n",
        "    else:\n",
        "      print(\"correct guess\")\n",
        "      break\n",
        "  count=count+1\n",
        "\n",
        "print(\"Game Over\")"
      ],
      "metadata": {
        "colab": {
          "base_uri": "https://localhost:8080/"
        },
        "id": "Z2IU4tWm6g9I",
        "outputId": "a52629f9-fa96-4ff0-edb3-f6c07354b874"
      },
      "execution_count": null,
      "outputs": [
        {
          "output_type": "stream",
          "name": "stdout",
          "text": [
            "Number:8\n",
            "TOO SMALL\n",
            "Number:9\n",
            "TOO SMALL\n",
            "Number:10\n",
            "correct guess\n",
            "Game Over\n"
          ]
        }
      ]
    },
    {
      "cell_type": "code",
      "source": [
        "inp=input()\n",
        "if inp.isdigit()==True:\n",
        "  print(\"integer\")\n",
        "else:\n",
        "  print(\"alphabet\")"
      ],
      "metadata": {
        "id": "TRUp1Slt6pD0",
        "colab": {
          "base_uri": "https://localhost:8080/"
        },
        "outputId": "14ac34b8-3b22-49f8-e5df-f6c1b78c9f06"
      },
      "execution_count": null,
      "outputs": [
        {
          "output_type": "stream",
          "name": "stdout",
          "text": [
            "nim\n",
            "alphabet\n"
          ]
        }
      ]
    },
    {
      "cell_type": "code",
      "source": [
        "ch=input()\n",
        "x=chr(ord(ch)-1)\n",
        "y=chr(ord(ch)+1)\n",
        "print(x)\n",
        "print(y)"
      ],
      "metadata": {
        "colab": {
          "base_uri": "https://localhost:8080/"
        },
        "id": "LNJaRdIAUKl-",
        "outputId": "2dc21eb6-3936-4d93-86d2-1c288b61bd84"
      },
      "execution_count": null,
      "outputs": [
        {
          "output_type": "stream",
          "name": "stdout",
          "text": [
            "@\n",
            "?\n",
            "A\n"
          ]
        }
      ]
    },
    {
      "cell_type": "code",
      "source": [
        "ch=input()\n",
        "x=ord(ch)-1\n",
        "x"
      ],
      "metadata": {
        "colab": {
          "base_uri": "https://localhost:8080/"
        },
        "id": "hSOSxNzXad-7",
        "outputId": "978da564-0118-4d4b-aba4-4c3c7857716f"
      },
      "execution_count": null,
      "outputs": [
        {
          "name": "stdout",
          "output_type": "stream",
          "text": [
            "A\n"
          ]
        },
        {
          "output_type": "execute_result",
          "data": {
            "text/plain": [
              "64"
            ]
          },
          "metadata": {},
          "execution_count": 21
        }
      ]
    },
    {
      "cell_type": "code",
      "source": [],
      "metadata": {
        "id": "DTzSubqbbdF8"
      },
      "execution_count": null,
      "outputs": []
    },
    {
      "cell_type": "code",
      "source": [
        "x,y,z=input().split()\n",
        "if int(z)<(int(x)+int(y)) and int(x)<(int(y)+int(z)) and int(y)<(int(x)+int(z)):\n",
        "  print(\"Valid\")\n",
        "else:\n",
        "  print(\"Invalid\")"
      ],
      "metadata": {
        "colab": {
          "base_uri": "https://localhost:8080/"
        },
        "id": "qjSvzkUhte5J",
        "outputId": "e80b980c-b5d1-4efa-a78f-70ee933ddc7f"
      },
      "execution_count": null,
      "outputs": [
        {
          "output_type": "stream",
          "name": "stdout",
          "text": [
            "3 4 5\n",
            "Valid\n"
          ]
        }
      ]
    },
    {
      "cell_type": "code",
      "source": [
        "input_list=['SAS', 'R', 'PYTHON', 'SPSS']\n",
        "input_list.remove('SPSS')\n",
        "input_list.append('SPARK')\n",
        "print(input_list)"
      ],
      "metadata": {
        "colab": {
          "base_uri": "https://localhost:8080/"
        },
        "id": "QM9q5wsI22I1",
        "outputId": "df86e2fe-221d-464d-93bd-1f327cf43fd1"
      },
      "execution_count": null,
      "outputs": [
        {
          "output_type": "stream",
          "name": "stdout",
          "text": [
            "['SAS', 'R', 'PYTHON', 'SPARK']\n"
          ]
        }
      ]
    },
    {
      "cell_type": "code",
      "source": [
        "input_str = 'Kumar_Ravi_003' \n",
        "new=input_str.split('_')\n",
        "first_name=new[1]\n",
        "second_name=new[0]\n",
        "customer_code=new[2]\n",
        "print(first_name)\n",
        "print(second_name)\n",
        "print(customer_code)"
      ],
      "metadata": {
        "id": "a9-_ZdRhKax5",
        "colab": {
          "base_uri": "https://localhost:8080/"
        },
        "outputId": "a0b63eb9-98fe-46a6-fbfe-8fca25165786"
      },
      "execution_count": null,
      "outputs": [
        {
          "output_type": "stream",
          "name": "stdout",
          "text": [
            "Ravi\n",
            "Kumar\n",
            "003\n"
          ]
        }
      ]
    },
    {
      "cell_type": "code",
      "source": [
        "input_str=['Pythons syntax is easy to learn', 'Pythons syntax is very clear']\n",
        "new=' & '.join(input_str)\n",
        "new"
      ],
      "metadata": {
        "colab": {
          "base_uri": "https://localhost:8080/",
          "height": 35
        },
        "id": "8ImUwXZZZQV5",
        "outputId": "87bb7112-b52b-496b-8153-7784f60762a9"
      },
      "execution_count": null,
      "outputs": [
        {
          "output_type": "execute_result",
          "data": {
            "application/vnd.google.colaboratory.intrinsic+json": {
              "type": "string"
            },
            "text/plain": [
              "'Pythons syntax is easy to learn & Pythons syntax is very clear'"
            ]
          },
          "metadata": {},
          "execution_count": 165
        }
      ]
    },
    {
      "cell_type": "code",
      "source": [
        "input_str='Python_is_fun'\n",
        "new=input_str.split('_')[1:len(input_str)]\n",
        "new1=' '.join(new)\n",
        "new1"
      ],
      "metadata": {
        "colab": {
          "base_uri": "https://localhost:8080/",
          "height": 35
        },
        "id": "NOCTt6MIaNPu",
        "outputId": "a11d1293-a64c-40ba-b773-3e7bfdd67570"
      },
      "execution_count": null,
      "outputs": [
        {
          "output_type": "execute_result",
          "data": {
            "application/vnd.google.colaboratory.intrinsic+json": {
              "type": "string"
            },
            "text/plain": [
              "'is fun'"
            ]
          },
          "metadata": {},
          "execution_count": 47
        }
      ]
    },
    {
      "cell_type": "code",
      "source": [
        "input_str='Python_is_fun'\n",
        "new=input_str.split('_')[1:len(input_str)]\n",
        "new"
      ],
      "metadata": {
        "colab": {
          "base_uri": "https://localhost:8080/"
        },
        "id": "XVauPhHncrTZ",
        "outputId": "04b1f45d-7f6a-45b2-b3bc-14579aeff41e"
      },
      "execution_count": null,
      "outputs": [
        {
          "output_type": "execute_result",
          "data": {
            "text/plain": [
              "['is', 'fun']"
            ]
          },
          "metadata": {},
          "execution_count": 160
        }
      ]
    },
    {
      "cell_type": "code",
      "source": [
        "input_str='Python is fun'\n",
        "new=list(input_str)\n",
        "new"
      ],
      "metadata": {
        "id": "0c7BeIv4dqUg",
        "colab": {
          "base_uri": "https://localhost:8080/"
        },
        "outputId": "c4a12455-4b0d-4c04-eb92-c9f66de674c4"
      },
      "execution_count": null,
      "outputs": [
        {
          "output_type": "execute_result",
          "data": {
            "text/plain": [
              "['P', 'y', 't', 'h', 'o', 'n', ' ', 'i', 's', ' ', 'f', 'u', 'n']"
            ]
          },
          "metadata": {},
          "execution_count": 163
        }
      ]
    },
    {
      "cell_type": "code",
      "source": [
        "n=int(input())\n",
        "for i in range(1,11):\n",
        "  print(n,'x',i,'=',n*i)"
      ],
      "metadata": {
        "id": "ymerzdXmeez3",
        "colab": {
          "base_uri": "https://localhost:8080/"
        },
        "outputId": "2fb519d6-5b16-4d5a-bf51-f8455721f338"
      },
      "execution_count": null,
      "outputs": [
        {
          "output_type": "stream",
          "name": "stdout",
          "text": [
            "5\n",
            "5 x 1 = 5\n",
            "5 x 2 = 10\n",
            "5 x 3 = 15\n",
            "5 x 4 = 20\n",
            "5 x 5 = 25\n",
            "5 x 6 = 30\n",
            "5 x 7 = 35\n",
            "5 x 8 = 40\n",
            "5 x 9 = 45\n",
            "5 x 10 = 50\n"
          ]
        }
      ]
    },
    {
      "cell_type": "code",
      "source": [
        "input_string=input()\n",
        "input_char=input()\n",
        "newinput_str=input_string.lower()\n",
        "count=newinput_str.count(input_char.lower())\n",
        "print(count)"
      ],
      "metadata": {
        "colab": {
          "base_uri": "https://localhost:8080/"
        },
        "id": "LTLVyNnKkU4q",
        "outputId": "2a6bfe63-7d1f-4160-85ac-dc1f09aa55fa"
      },
      "execution_count": null,
      "outputs": [
        {
          "output_type": "stream",
          "name": "stdout",
          "text": [
            "Python programming\n",
            "P\n",
            "2\n"
          ]
        }
      ]
    },
    {
      "cell_type": "code",
      "source": [
        "n=input()\n",
        "sum=0\n",
        "for digit in n:\n",
        "  sum=sum+int(digit)\n",
        "print(sum)"
      ],
      "metadata": {
        "colab": {
          "base_uri": "https://localhost:8080/"
        },
        "id": "4cL87JaHm2_r",
        "outputId": "dafb89c8-a663-4f04-e520-0856e7c7a2b7"
      },
      "execution_count": null,
      "outputs": [
        {
          "output_type": "stream",
          "name": "stdout",
          "text": [
            "5678\n",
            "26\n"
          ]
        }
      ]
    },
    {
      "cell_type": "code",
      "source": [
        "n=input()\n",
        "count1=0\n",
        "count2=0\n",
        "count3=0\n",
        "for i in n:\n",
        "  if int(i)%2==0 and int(i)!=0:\n",
        "    count2=count2+1\n",
        "    \n",
        "  elif int(i)==0:\n",
        "    count3=count3+1\n",
        "    \n",
        "  else:\n",
        "    count1=count1+1\n",
        "    \n",
        "print(\"Number of odd digits:\",count1)\n",
        "print(\"Number of non-zero even digits:\",count2)  \n",
        "print(\"Number of zeros:\",count3)   "
      ],
      "metadata": {
        "colab": {
          "base_uri": "https://localhost:8080/"
        },
        "id": "mH_FZy6rqWD9",
        "outputId": "969b5587-795f-48be-aa7a-7f6173778766"
      },
      "execution_count": null,
      "outputs": [
        {
          "output_type": "stream",
          "name": "stdout",
          "text": [
            "1030\n",
            "Number of odd digits: 2\n",
            "Number of non-zero even digits: 0\n",
            "Number of zeros: 2\n"
          ]
        }
      ]
    },
    {
      "cell_type": "code",
      "source": [
        "n=input()\n",
        "new=n.replace(' ','')\n",
        "new1=''.join([i for i in new if not i.isdigit()])\n",
        "new2=\"\"\n",
        "for i in new1:\n",
        "  if i.isalnum()==True:\n",
        "    new2=new2+i\n",
        "new3=new2.swapcase()\n",
        "print(new3)"
      ],
      "metadata": {
        "colab": {
          "base_uri": "https://localhost:8080/"
        },
        "id": "5ld-vet_t0tY",
        "outputId": "247e689a-bddc-4b13-cddf-b82341a253e9"
      },
      "execution_count": null,
      "outputs": [
        {
          "output_type": "stream",
          "name": "stdout",
          "text": [
            "Programming1234\n",
            "pROGRAMMING\n"
          ]
        }
      ]
    },
    {
      "cell_type": "code",
      "source": [
        "input_string=input()\n",
        "new_str=''\n",
        "for c in input_string:\n",
        "  if (c.isalpha()):\n",
        "     if c.isupper():\n",
        "       new_str=new_str+c.lower()\n",
        "     else:\n",
        "       new_str=new_str+c.upper()\n",
        "print(new_str)\n"
      ],
      "metadata": {
        "colab": {
          "base_uri": "https://localhost:8080/"
        },
        "id": "gKnhIWdnD6AW",
        "outputId": "1aa5865d-876d-4173-cc2d-eeca18784784"
      },
      "execution_count": null,
      "outputs": [
        {
          "output_type": "stream",
          "name": "stdout",
          "text": [
            "Programming1234\n",
            "pROGRAMMING\n"
          ]
        }
      ]
    },
    {
      "cell_type": "code",
      "source": [
        "input_list=[[5, 1, 3, 4, 4, 5, 6, 7],[3, 3, 5, 5, 1 ,7 ,2]]\n",
        "list_1 = input_list[0]\n",
        "list_2 = input_list[1]\n",
        "set_1=set(list_1)\n",
        "set_2=set(list_2)\n",
        "set_3=set_1.intersection(set_2)\n",
        "new_set=sorted(set_3)\n",
        "answer=list(new_set)\n",
        "print(answer)"
      ],
      "metadata": {
        "id": "G7RCnW13bGrU",
        "colab": {
          "base_uri": "https://localhost:8080/"
        },
        "outputId": "491c8fd6-8e01-41d2-d686-8777fc3f38c3"
      },
      "execution_count": null,
      "outputs": [
        {
          "output_type": "stream",
          "name": "stdout",
          "text": [
            "[1, 3, 5, 7]\n"
          ]
        }
      ]
    },
    {
      "cell_type": "code",
      "source": [
        "input_dict={ 101:['Shiva', 24, 'Content Strategist'] ,102:['Udit',25,'Content Strategist'], 103:['Sonam', 28,'Sr Manager'], 104:['Ansari',29,'Product Lead' ],105:['Huzefa',32,'Project Manager' ]}\n",
        "L=input_dict[104]\n",
        "profession=L[2]\n",
        "print(profession)"
      ],
      "metadata": {
        "colab": {
          "base_uri": "https://localhost:8080/"
        },
        "id": "B8d_sGM5yVPT",
        "outputId": "5cb0d16e-5ca6-42c5-cbd1-ae98372a6a5b"
      },
      "execution_count": null,
      "outputs": [
        {
          "output_type": "stream",
          "name": "stdout",
          "text": [
            "Product Lead\n"
          ]
        }
      ]
    },
    {
      "cell_type": "code",
      "source": [
        "input_dict={'Name': 'Monty', 'Profession': 'Singer' }\n",
        "if 'Label' in input_dict:\n",
        "  print(\"A\")\n",
        "else:\n",
        "  print(\"NA\")"
      ],
      "metadata": {
        "colab": {
          "base_uri": "https://localhost:8080/"
        },
        "id": "G_MvAXxZAQWd",
        "outputId": "8ca992b3-a762-46c0-c74b-45214ff99006"
      },
      "execution_count": null,
      "outputs": [
        {
          "output_type": "stream",
          "name": "stdout",
          "text": [
            "NA\n"
          ]
        }
      ]
    },
    {
      "cell_type": "code",
      "source": [],
      "metadata": {
        "id": "8YgxHE9jEjY-"
      },
      "execution_count": null,
      "outputs": []
    },
    {
      "cell_type": "code",
      "source": [
        "Employee_data ={101: 43, 102: 25, 103: 43, 104: 31, 105: 26, 106: 28, 107: 29, 108: 43, 109: 25, 110: 22, 111: 22, 112: 25, 113: 30, 115: 45, 116: 23, 117: 29, 118: 28, 119: 30, 120: 28, 121: 42, 122: 39, 123: 29, 124: 42, 125: 43, 126: 42, 127: 40, 128: 27, 129: 23, 130: 30, 131: 37, 132: 20, 133: 36, 134: 27, 135: 27, 136: 22, 137: 28, 138: 23, 139: 45, 140: 39, 141: 29, 142: 33, 143: 39, 145: 34, 146: 26, 147: 30, 148: 38, 149: 29, 150: 24, 151: 28, 152: 34, 153: 42, 154: 29, 155: 23, 156: 31, 158: 25, 160: 45, 161: 42, 162: 27, 163: 24, 164: 20, 166: 24, 167: 28, 168: 20, 169: 33, 170: 34, 171: 37, 172: 45, 173: 35, 174: 23, 175: 44, 176: 27, 177: 30, 178: 26, 179: 27}\n",
        "Employee_data[104]=27\n",
        "Employee_data[140]=27\n",
        "Employee_data[164]=27\n",
        "del Employee_data[143]\n",
        "mean=sum(Employee_data.values())/len(Employee_data)\n",
        "mean"
      ],
      "metadata": {
        "colab": {
          "base_uri": "https://localhost:8080/"
        },
        "id": "mMhw5vHESuMx",
        "outputId": "20a17f66-f534-4040-d470-c9c0e677856f"
      },
      "execution_count": null,
      "outputs": [
        {
          "output_type": "execute_result",
          "data": {
            "text/plain": [
              "31.136986301369863"
            ]
          },
          "metadata": {},
          "execution_count": 4
        }
      ]
    },
    {
      "cell_type": "code",
      "source": [
        "if (10 < 0) and (0 < -10):\n",
        "    print(\"A\")\n",
        "elif (10 > 0) or False:\n",
        "    print(\"B\")\n",
        "else:\n",
        "    print(\"C\")"
      ],
      "metadata": {
        "id": "caQRlQoqT5Bi",
        "colab": {
          "base_uri": "https://localhost:8080/"
        },
        "outputId": "07701c56-0614-465c-c7e0-e2b17d6e2e67"
      },
      "execution_count": null,
      "outputs": [
        {
          "output_type": "stream",
          "name": "stdout",
          "text": [
            "B\n"
          ]
        }
      ]
    },
    {
      "cell_type": "code",
      "source": [
        "input_str='bATA'\n",
        "L=input_str[0]\n",
        "if L in 'aeiouAEIOU':\n",
        "  print(\"YES\")\n",
        "else:\n",
        "  print(\"NO\")\n",
        "    \n"
      ],
      "metadata": {
        "colab": {
          "base_uri": "https://localhost:8080/"
        },
        "id": "2iibPgqfVSlu",
        "outputId": "6a682ca0-12a6-4d10-9e8a-4f8cb8b80c15"
      },
      "execution_count": null,
      "outputs": [
        {
          "output_type": "stream",
          "name": "stdout",
          "text": [
            "NO\n"
          ]
        }
      ]
    },
    {
      "cell_type": "code",
      "source": [
        "input_list=['VARMA', 'raj', 'Gupta', 'SaNdeeP']\n",
        "newL=[]\n",
        "for i in input_list:\n",
        "  L=i.capitalize()\n",
        "  newL.append(L)\n",
        "print(newL)\n"
      ],
      "metadata": {
        "id": "T3gAU62vYKJu",
        "colab": {
          "base_uri": "https://localhost:8080/"
        },
        "outputId": "4c5de564-3da8-4eab-a9dc-9fde52ae4895"
      },
      "execution_count": null,
      "outputs": [
        {
          "output_type": "stream",
          "name": "stdout",
          "text": [
            "['Varma', 'Raj', 'Gupta', 'Sandeep']\n"
          ]
        }
      ]
    },
    {
      "cell_type": "code",
      "source": [
        "n = int(input())\n",
        "L=[i**2 for i in range(1,n+1)]\n",
        "print(L)"
      ],
      "metadata": {
        "colab": {
          "base_uri": "https://localhost:8080/"
        },
        "id": "fk2_MCIZoZ5j",
        "outputId": "de5238ed-703c-4081-d669-f9211907850f"
      },
      "execution_count": null,
      "outputs": [
        {
          "output_type": "stream",
          "name": "stdout",
          "text": [
            "5\n",
            "[1, 4, 9, 16, 25]\n"
          ]
        }
      ]
    },
    {
      "cell_type": "code",
      "source": [
        "input_list=['wood','old','apple','big','item','euphoria']\n",
        "list_vowel =[i for i in input_list if i[0] in 'aeiouAEIOU']\n",
        "print(list_vowel)"
      ],
      "metadata": {
        "colab": {
          "base_uri": "https://localhost:8080/"
        },
        "id": "2TvFpPprshn4",
        "outputId": "fd128143-2430-4bba-8e96-7c839754ccc7"
      },
      "execution_count": null,
      "outputs": [
        {
          "output_type": "stream",
          "name": "stdout",
          "text": [
            "['old', 'apple', 'item', 'euphoria']\n"
          ]
        }
      ]
    },
    {
      "cell_type": "code",
      "source": [
        "input_list=['6','7']\n",
        "x = int(input_list[0])\n",
        "y = int(input_list[1])\n",
        "def squared(x,y):\n",
        "    return(x**y)\n",
        "print(squared(x,y))\n"
      ],
      "metadata": {
        "colab": {
          "base_uri": "https://localhost:8080/"
        },
        "id": "IJhOFR3_tc3v",
        "outputId": "e50bc303-b91a-403f-b3f1-3c8af5b4570c"
      },
      "execution_count": null,
      "outputs": [
        {
          "output_type": "stream",
          "name": "stdout",
          "text": [
            "279936\n"
          ]
        }
      ]
    },
    {
      "cell_type": "code",
      "source": [
        "input_list=['9','11']\n",
        "a = int(input_list[0])\n",
        "b = int(input_list[1])\n",
        "greater=lambda a,b:max(a,b)\n",
        "print(greater(a,b))"
      ],
      "metadata": {
        "colab": {
          "base_uri": "https://localhost:8080/"
        },
        "id": "MZV4cQrnvUhv",
        "outputId": "387ea544-8503-478e-b158-58ba1feb70a5"
      },
      "execution_count": null,
      "outputs": [
        {
          "output_type": "stream",
          "name": "stdout",
          "text": [
            "11\n"
          ]
        }
      ]
    },
    {
      "cell_type": "code",
      "source": [
        "def func(x, y = 1):\n",
        "    z = x * y + x + y\n",
        "    return z\n",
        "\n",
        "func(2, func(3))"
      ],
      "metadata": {
        "colab": {
          "base_uri": "https://localhost:8080/"
        },
        "id": "vw5toTT_xTW9",
        "outputId": "bce42651-a8ac-44ea-bf99-4f3ae6e9276b"
      },
      "execution_count": null,
      "outputs": [
        {
          "output_type": "execute_result",
          "data": {
            "text/plain": [
              "23"
            ]
          },
          "metadata": {},
          "execution_count": 31
        }
      ]
    },
    {
      "cell_type": "code",
      "source": [
        "L1 = [2, 7, 8, 10, 3]\n",
        "\n",
        "def func(y):\n",
        "    return y**2- 2 * y - 2\n",
        "\n",
        "ans_list = [func(x) for x in L1]\n",
        "ans_list"
      ],
      "metadata": {
        "colab": {
          "base_uri": "https://localhost:8080/"
        },
        "id": "2PRRKVbWxxxl",
        "outputId": "d85cdfff-052f-4765-cb18-5b509468f944"
      },
      "execution_count": null,
      "outputs": [
        {
          "output_type": "execute_result",
          "data": {
            "text/plain": [
              "[-2, 33, 46, 78, 1]"
            ]
          },
          "metadata": {},
          "execution_count": 32
        }
      ]
    },
    {
      "cell_type": "code",
      "source": [
        "input_list=[['Ankur', 'Avik', 'Kiran', 'Nitin'], ['Narang', 'Sarkar', 'R', 'Sareen']]\n",
        "first_name = input_list[0]\n",
        "last_name = input_list[1]\n",
        "name = map(lambda x,y:x+\" \"+y,first_name,last_name)\n",
        "print(list(name))"
      ],
      "metadata": {
        "colab": {
          "base_uri": "https://localhost:8080/"
        },
        "id": "VVCFUjAwz1j4",
        "outputId": "b6cd102c-e595-4988-d852-d38c0f942f81"
      },
      "execution_count": null,
      "outputs": [
        {
          "output_type": "stream",
          "name": "stdout",
          "text": [
            "['Ankur Narang', 'Avik Sarkar', 'Kiran R', 'Nitin Sareen']\n"
          ]
        }
      ]
    },
    {
      "cell_type": "code",
      "source": [
        "input_list=[1, 2, 3, 4, 5, 6, 7, 8, 9, 10, 11, 12, 13, 14, 15, 16, 17, 18, 19, 20, 21, 22, 23, 24, 25, 26, 27, 28, 29, 30, 31, 32, 33, 34, 35, 36, 37, 38, 39, 40, 41, 42, 43, 44, 45, 46, 47, 48, 49, 50]\n",
        "list_answer =filter(lambda x:x%5==0,input_list)\n",
        "print(list(list_answer))"
      ],
      "metadata": {
        "colab": {
          "base_uri": "https://localhost:8080/"
        },
        "id": "BDv-2Ib1FvUo",
        "outputId": "86cce59e-5ba3-4538-d57e-a79269790f6c"
      },
      "execution_count": null,
      "outputs": [
        {
          "output_type": "stream",
          "name": "stdout",
          "text": [
            "[5, 10, 15, 20, 25, 30, 35, 40, 45, 50]\n"
          ]
        }
      ]
    },
    {
      "cell_type": "code",
      "source": [
        "input_list=['soap','sharp','shy','silent','ship','summer','sheep']\n",
        "sp = filter(lambda x:x[0]=='s' and x[-1]=='p',input_list)\n",
        "print(list(sp))"
      ],
      "metadata": {
        "colab": {
          "base_uri": "https://localhost:8080/"
        },
        "id": "glxscosfPB9e",
        "outputId": "ff47c402-0b6d-4c97-9957-f14870044604"
      },
      "execution_count": null,
      "outputs": [
        {
          "output_type": "stream",
          "name": "stdout",
          "text": [
            "['soap', 'sharp', 'ship', 'sheep']\n"
          ]
        }
      ]
    },
    {
      "cell_type": "code",
      "source": [
        "import ast\n",
        "input_list = ast.literal_eval(input())\n",
        "K = int(input())\n",
        "L=[]\n",
        "for i in input_list:\n",
        "  if i.isdigit():\n",
        "    num=int(i)+K\n",
        "    n=str(num)\n",
        "    L.append(n)\n",
        "  else:\n",
        "    L.append(i)\n",
        "print(L)"
      ],
      "metadata": {
        "id": "5dpH3X3cVUPi",
        "colab": {
          "base_uri": "https://localhost:8080/"
        },
        "outputId": "9e8f0d0c-c0fc-453f-e524-90954a81167d"
      },
      "execution_count": null,
      "outputs": [
        {
          "output_type": "stream",
          "name": "stdout",
          "text": [
            "['Data Science', '100', '10']\n",
            "10\n",
            "['Data Science', '110', '20']\n"
          ]
        }
      ]
    },
    {
      "cell_type": "code",
      "source": [
        "import ast\n",
        "input_list = ast.literal_eval(input())\n",
        "K = int(input())\n",
        "for i in input_list:\n",
        "  if K<=len(input_list):\n",
        "    L=input_list[K-1:]\n",
        "print(L)"
      ],
      "metadata": {
        "colab": {
          "base_uri": "https://localhost:8080/"
        },
        "id": "QPoQAXVpQAQ1",
        "outputId": "142bf002-b0a4-4ba8-8540-f9a7ea4960fc"
      },
      "execution_count": null,
      "outputs": [
        {
          "output_type": "stream",
          "name": "stdout",
          "text": [
            "['Mumbai', 'Delhi', 'Australia', 'Nigeria', 'USA', 'London', 'Canada']\n",
            "2\n",
            "['Delhi', 'Australia', 'Nigeria', 'USA', 'London', 'Canada']\n"
          ]
        }
      ]
    },
    {
      "cell_type": "code",
      "source": [
        "import ast\n",
        "input_list = ast.literal_eval(input())\n",
        "input_list.sort(key=lambda i:i[1],reverse=True)\n",
        "input_list\n"
      ],
      "metadata": {
        "id": "VPy8tE9cQ4qH",
        "colab": {
          "base_uri": "https://localhost:8080/"
        },
        "outputId": "748f75fc-6892-4f18-8901-b4615f9198f9"
      },
      "execution_count": null,
      "outputs": [
        {
          "name": "stdout",
          "output_type": "stream",
          "text": [
            "[(55,77), (34,90), (67,100), (90,0)]\n"
          ]
        },
        {
          "output_type": "execute_result",
          "data": {
            "text/plain": [
              "[(67, 100), (34, 90), (55, 77), (90, 0)]"
            ]
          },
          "metadata": {},
          "execution_count": 35
        }
      ]
    },
    {
      "cell_type": "code",
      "source": [
        "input_str=input()\n",
        "new_str=input_str.replace(',','')\n",
        "for i in new_str:\n",
        "  if int(i)!=0:\n",
        "    num=int(new_str) % int(i)\n",
        "  elif int(i)==0:\n",
        "    num=0\n",
        "if num==0:\n",
        "  print(\"Happy Number\")\n",
        "else:\n",
        "  print(\"Sad Number\")"
      ],
      "metadata": {
        "colab": {
          "base_uri": "https://localhost:8080/"
        },
        "id": "klIQs3ATTQza",
        "outputId": "92c4f040-8727-487d-d9c2-47579a84d6ac"
      },
      "execution_count": null,
      "outputs": [
        {
          "output_type": "stream",
          "name": "stdout",
          "text": [
            "256\n",
            "Sad Number\n"
          ]
        }
      ]
    },
    {
      "cell_type": "code",
      "source": [
        "L1=[1,2,3,4]\n",
        "L2=[5,6,7,8]\n",
        "sum=map(lambda x,y:x+y,L1,L2)\n",
        "print(list(sum))"
      ],
      "metadata": {
        "id": "QCF_cz-aLaTv",
        "colab": {
          "base_uri": "https://localhost:8080/"
        },
        "outputId": "74bf5faa-4ab4-4730-92ad-7844ba407d35"
      },
      "execution_count": null,
      "outputs": [
        {
          "output_type": "stream",
          "name": "stdout",
          "text": [
            "[6, 8, 10, 12]\n"
          ]
        }
      ]
    },
    {
      "cell_type": "code",
      "source": [
        "L=[\"cat\",\"bat\",\"rat\",\"sat\"]\n",
        "L1=L[::-1]\n",
        "L1"
      ],
      "metadata": {
        "colab": {
          "base_uri": "https://localhost:8080/"
        },
        "id": "IQanVVS0Zf98",
        "outputId": "b1c995c3-5f7d-417d-c52c-9bcb84278eeb"
      },
      "execution_count": null,
      "outputs": [
        {
          "output_type": "execute_result",
          "data": {
            "text/plain": [
              "['sat', 'rat', 'bat', 'cat']"
            ]
          },
          "metadata": {},
          "execution_count": 2
        }
      ]
    },
    {
      "cell_type": "code",
      "source": [
        "L=[1,2,3,4]\n",
        "f1,f2,f3,f4=L\n",
        "print(f1,f2,f3,f4)"
      ],
      "metadata": {
        "colab": {
          "base_uri": "https://localhost:8080/"
        },
        "id": "PtyyYtJSZmbS",
        "outputId": "e9d432eb-f9d4-493e-e5e7-9a35a90f71c1"
      },
      "execution_count": null,
      "outputs": [
        {
          "output_type": "stream",
          "name": "stdout",
          "text": [
            "1 2 3 4\n"
          ]
        }
      ]
    },
    {
      "cell_type": "code",
      "source": [
        "giftBox = 'bread iph*one butter ip*ad milk'\n",
        "L=giftBox.split()\n",
        "for word in L:\n",
        "  if '*' in word:\n",
        "    print(word)"
      ],
      "metadata": {
        "colab": {
          "base_uri": "https://localhost:8080/"
        },
        "id": "oSIiZGqDZpmV",
        "outputId": "180e8e9c-c781-4afa-9bd6-eb4a81fd1a0a"
      },
      "execution_count": null,
      "outputs": [
        {
          "output_type": "stream",
          "name": "stdout",
          "text": [
            "iph*one\n",
            "ip*ad\n"
          ]
        }
      ]
    },
    {
      "cell_type": "code",
      "source": [
        "colors = 'red orange blue indigo green'\n",
        "L=colors.split()\n",
        "print(L)\n",
        "for word in L:\n",
        "  if word[0] in 'aeiou':\n",
        "    print(word)"
      ],
      "metadata": {
        "colab": {
          "base_uri": "https://localhost:8080/"
        },
        "id": "Ur3EezkcZv2j",
        "outputId": "bcc76446-ff9b-4d64-ab5f-3ad64f24d6b2"
      },
      "execution_count": null,
      "outputs": [
        {
          "output_type": "stream",
          "name": "stdout",
          "text": [
            "['red', 'orange', 'blue', 'indigo', 'green']\n",
            "orange\n",
            "indigo\n"
          ]
        }
      ]
    },
    {
      "cell_type": "code",
      "source": [
        "dct = {'here':[1,2,3,{'target':(False,{'color':'black','greetings':['hello world']})}]}\n",
        "L=dct['here'][3]\n",
        "newL=L['target'][1]\n",
        "final_dct=newL['greetings'][0][0:5]\n",
        "final_dct"
      ],
      "metadata": {
        "colab": {
          "base_uri": "https://localhost:8080/",
          "height": 35
        },
        "id": "pjbOrFM7Z1Ex",
        "outputId": "f40738ce-7148-4b29-df5c-0726df91cb45"
      },
      "execution_count": null,
      "outputs": [
        {
          "output_type": "execute_result",
          "data": {
            "text/plain": [
              "'hello'"
            ],
            "application/vnd.google.colaboratory.intrinsic+json": {
              "type": "string"
            }
          },
          "metadata": {},
          "execution_count": 10
        }
      ]
    },
    {
      "cell_type": "code",
      "source": [
        "import random\n",
        "L=random.randint(1,10)\n",
        "count=1\n",
        "while count<=3:\n",
        "  num=int(input(\"Number:\"))\n",
        "  if num>L:\n",
        "    print(\"TOO HIGH\")\n",
        "  elif num<L:\n",
        "    print(\"TOO SMALL\")\n",
        "  else:\n",
        "    print(\"correct guess\")\n",
        "    break\n",
        "  count=count+1\n",
        "\n",
        "print(\"Game Over\")"
      ],
      "metadata": {
        "colab": {
          "base_uri": "https://localhost:8080/"
        },
        "id": "i-n4k6qxaC0Q",
        "outputId": "539d1c0b-7da1-4826-d53c-b40fbc58ca8b"
      },
      "execution_count": null,
      "outputs": [
        {
          "output_type": "stream",
          "name": "stdout",
          "text": [
            "Number:4\n",
            "TOO SMALL\n",
            "Number:6\n",
            "correct guess\n",
            "Game Over\n"
          ]
        }
      ]
    },
    {
      "cell_type": "code",
      "source": [
        "num=int(input(\"Number: \"))\n",
        "if num%2==0:\n",
        "  print(\"Even\")\n",
        "else:\n",
        "  print(\"Odd\")"
      ],
      "metadata": {
        "colab": {
          "base_uri": "https://localhost:8080/"
        },
        "id": "GOa5JxsramY0",
        "outputId": "a60e3320-0a8a-4fa1-f263-e4d4520c1cc1"
      },
      "execution_count": null,
      "outputs": [
        {
          "output_type": "stream",
          "name": "stdout",
          "text": [
            "Number: 4\n",
            "Even\n"
          ]
        }
      ]
    },
    {
      "cell_type": "code",
      "source": [
        "L=[1,2,3,5]\n",
        "L.reverse()\n",
        "L"
      ],
      "metadata": {
        "colab": {
          "base_uri": "https://localhost:8080/"
        },
        "id": "7VO--e-ca04E",
        "outputId": "a1a10910-4159-48d5-f5a4-b5ca55592e50"
      },
      "execution_count": null,
      "outputs": [
        {
          "output_type": "execute_result",
          "data": {
            "text/plain": [
              "[5, 3, 2, 1]"
            ]
          },
          "metadata": {},
          "execution_count": 13
        }
      ]
    },
    {
      "cell_type": "code",
      "source": [
        "Amazon={\"Mobiles\":{\"IOS\":{\"Iphone 11\":{\"Battery\":\"3000mAh\",\"Camera\":\"8MP\",\"Price\":\"Rs.50000\",\"Discount\":\"20% OFF\"},\n",
        "                          \"Iphone 13\":{\"Camera\":\"12MP\",\"RAM\":\"6GB\",\"Price\":\"Rs.70000\",\"Discount\":\"25% OFF\"}},\n",
        "                   'Android':{\"Samsung 21 Ultra\":{\"Battery\":\"5000mAh\",\"Camera\":\"80MP\"}}},\n",
        "        \"Books\":{\"Genres\":{\"Self_Help\":\"Pshychology_of_Money\",\n",
        "                           \"Literature_fiction\":\"Harry_Potter\"}},\n",
        "        \"Clothing\":{\"Kids\":{\"Shorts\":\"Lily Puts\"},\"Adults\":{\"Men\":'Nike',\"Women\":'Zara'}},\n",
        "        \"Computers\":{\"Windows\":'Dell G15',\"Mac\":\"Macbook Pro\"}}\n",
        "      \n",
        "Amazon['Mobiles']['IOS']['Iphone 11']['Price']=(100-int(Amazon['Mobiles']['IOS']['Iphone 11']['Discount'].split(\"%\")[0]))*int(Amazon['Mobiles']['IOS']['Iphone 11']['Price'].split('.')[1])/100\n",
        "Amazon['Mobiles']['IOS']['Iphone 13']['Price']=(100-int(Amazon['Mobiles']['IOS']['Iphone 13']['Discount'].split(\"%\")[0]))*int(Amazon['Mobiles']['IOS']['Iphone 13']['Price'].split('.')[1])/100\n",
        "Amazon"
      ],
      "metadata": {
        "colab": {
          "base_uri": "https://localhost:8080/"
        },
        "id": "xsPOc3B2a85K",
        "outputId": "8b5e7d83-572a-4598-84f4-cf13a86c1b79"
      },
      "execution_count": null,
      "outputs": [
        {
          "output_type": "execute_result",
          "data": {
            "text/plain": [
              "{'Books': {'Genres': {'Literature_fiction': 'Harry_Potter',\n",
              "   'Self_Help': 'Pshychology_of_Money'}},\n",
              " 'Clothing': {'Adults': {'Men': 'Nike', 'Women': 'Zara'},\n",
              "  'Kids': {'Shorts': 'Lily Puts'}},\n",
              " 'Computers': {'Mac': 'Macbook Pro', 'Windows': 'Dell G15'},\n",
              " 'Mobiles': {'Android': {'Samsung 21 Ultra': {'Battery': '5000mAh',\n",
              "    'Camera': '80MP'}},\n",
              "  'IOS': {'Iphone 11': {'Battery': '3000mAh',\n",
              "    'Camera': '8MP',\n",
              "    'Discount': '20% OFF',\n",
              "    'Price': 40000.0},\n",
              "   'Iphone 13': {'Camera': '12MP',\n",
              "    'Discount': '25% OFF',\n",
              "    'Price': 52500.0,\n",
              "    'RAM': '6GB'}}}}"
            ]
          },
          "metadata": {},
          "execution_count": 16
        }
      ]
    },
    {
      "cell_type": "code",
      "source": [
        "import ast\n",
        "String=input()\n",
        "L=[]\n",
        "for i in String:\n",
        "  new_L=String.rstrip(']').lstrip('[')\n",
        "List=new_L.split(',')\n",
        "for num in List:\n",
        "  L.append(int(num))\n",
        "final_list=L\n",
        "if len(final_list)<=11:\n",
        "  S=sum(final_list)\n",
        "  print(S)\n",
        "else:\n",
        "  print('-1')"
      ],
      "metadata": {
        "colab": {
          "base_uri": "https://localhost:8080/"
        },
        "id": "Piqb2YE6bq14",
        "outputId": "2731412a-476b-4bcc-cac1-0529ca721639"
      },
      "execution_count": null,
      "outputs": [
        {
          "output_type": "stream",
          "name": "stdout",
          "text": [
            "[11, 13, 101, 14, 33, 141, 12, 144, 54, 67, 8, 11]\n",
            "-1\n"
          ]
        }
      ]
    },
    {
      "cell_type": "code",
      "source": [
        "import re\n",
        "test_str = input()\n",
        "L=re.findall(r\"[A-Z]+\",test_str)\n",
        "newL=[len(i) for i in L]\n",
        "print(L)\n",
        "print(max(newL))"
      ],
      "metadata": {
        "colab": {
          "base_uri": "https://localhost:8080/"
        },
        "id": "LpyiPgA1bwR2",
        "outputId": "78c1301b-5cb2-4271-f354-3b50eae47800"
      },
      "execution_count": null,
      "outputs": [
        {
          "output_type": "stream",
          "name": "stdout",
          "text": [
            "India WOn the WOrLD CUP\n",
            "['I', 'WO', 'WO', 'LD', 'CUP']\n",
            "3\n"
          ]
        }
      ]
    },
    {
      "cell_type": "code",
      "source": [
        "import ast\n",
        "input_dictionary = input()\n",
        "convert_dictionary = ast.literal_eval(input_dictionary)\n",
        "input_list = input()\n",
        "convert_list = ast.literal_eval(input_list)\n",
        "for i in convert_list:\n",
        "   if i[0] in convert_dictionary.keys():\n",
        "     convert_dictionary[i[0]]=i[1]\n",
        "print(convert_dictionary)"
      ],
      "metadata": {
        "colab": {
          "base_uri": "https://localhost:8080/"
        },
        "id": "G-AbKR47b-tJ",
        "outputId": "1b7a89b5-ffef-4c06-bd9c-23b2282f72bb"
      },
      "execution_count": null,
      "outputs": [
        {
          "output_type": "stream",
          "name": "stdout",
          "text": [
            "{\"Atletico Madrid\" : \"D\" , \"Juventus\": \"B\", \"Chelsea\": \"C\" }\n",
            "[[\"Juventus\", \"G\"], [\"Chelsea\", \"H\"]]\n",
            "{'Atletico Madrid': 'D', 'Juventus': 'G', 'Chelsea': 'H'}\n"
          ]
        }
      ]
    },
    {
      "cell_type": "code",
      "source": [
        "import ast\n",
        "S1=input()\n",
        "S2=input()\n",
        "L1=ast.literal_eval(S1)\n",
        "L2=ast.literal_eval(S2)\n",
        "count=0\n",
        "for i,j in zip(L1,L2):\n",
        "  if float(i)<=float(j):\n",
        "    count=count+1\n",
        "print(count)\n",
        "if count>=3:\n",
        "  print(\"Selected\")\n",
        "else:\n",
        "  print(\"Rejected\")"
      ],
      "metadata": {
        "colab": {
          "base_uri": "https://localhost:8080/"
        },
        "id": "Fcqb521ycIHj",
        "outputId": "78c458a6-62c7-4246-97bb-291a316d9f74"
      },
      "execution_count": null,
      "outputs": [
        {
          "output_type": "stream",
          "name": "stdout",
          "text": [
            "['8', '4', '6', '9', '7']\n",
            "['1', '1.1', '1.2', '1.2',  '2.3']\n",
            "0\n",
            "Rejected\n"
          ]
        }
      ]
    },
    {
      "cell_type": "code",
      "source": [
        "import ast\n",
        "S1=input()\n",
        "S2=input()\n",
        "d1=ast.literal_eval(S1)\n",
        "d2=ast.literal_eval(S2)\n",
        "d3=dict(d1,**d2)\n",
        "print(d3)"
      ],
      "metadata": {
        "colab": {
          "base_uri": "https://localhost:8080/"
        },
        "id": "6WbDjO7YcQEQ",
        "outputId": "840a6cf2-ce39-4191-93fa-cdeae8c40aac"
      },
      "execution_count": null,
      "outputs": [
        {
          "output_type": "stream",
          "name": "stdout",
          "text": [
            "{'a': 110, 'b': 88}\n",
            "{'d': 62, 'c': 44}\n",
            "{'a': 110, 'b': 88, 'd': 62, 'c': 44}\n"
          ]
        }
      ]
    },
    {
      "cell_type": "code",
      "source": [
        "input_list=['Santa Cruz','Santa fe','Mumbai','Delhi']\n",
        "\n",
        "count = sum(map(lambda word: word[0] == 'M', input_list))\n",
        "print(count)"
      ],
      "metadata": {
        "id": "4TNCvQwpcdn9",
        "colab": {
          "base_uri": "https://localhost:8080/"
        },
        "outputId": "3a74e04b-97ff-4a85-e523-217eb6f41106"
      },
      "execution_count": null,
      "outputs": [
        {
          "output_type": "stream",
          "name": "stdout",
          "text": [
            "1\n"
          ]
        }
      ]
    },
    {
      "cell_type": "code",
      "source": [
        "input_list=[ ['Ankur', 'Avik', 'Kiran', 'Nitin'], ['Narang', 'Sarkar', 'R', 'Sareen']]\n",
        "input_list1=input_list[0]\n",
        "input_list2=input_list[1]\n",
        "for i,j in zip(input_list1,input_list1):\n",
        "    print(i,\" \",j)"
      ],
      "metadata": {
        "colab": {
          "base_uri": "https://localhost:8080/"
        },
        "id": "aNEwipmVwMLO",
        "outputId": "3c06cc5f-969e-4b25-e231-187256ed0b2d"
      },
      "execution_count": null,
      "outputs": [
        {
          "output_type": "stream",
          "name": "stdout",
          "text": [
            "Ankur   Ankur\n",
            "Avik   Avik\n",
            "Kiran   Kiran\n",
            "Nitin   Nitin\n"
          ]
        }
      ]
    },
    {
      "cell_type": "code",
      "source": [
        "input_list=['soap','sharp','shy','silent','ship','summer','sheep']\n",
        "check = lambda x: x[-1]=='p'and x[0]=='s'\n",
        "sp= filter(check,input_list)\n",
        "print(list(sp))"
      ],
      "metadata": {
        "colab": {
          "base_uri": "https://localhost:8080/"
        },
        "id": "W-sPX1zmwRAb",
        "outputId": "1d29daee-c740-44c5-8efc-870aeecaee39"
      },
      "execution_count": null,
      "outputs": [
        {
          "output_type": "stream",
          "name": "stdout",
          "text": [
            "['soap', 'sharp', 'ship', 'sheep']\n"
          ]
        }
      ]
    },
    {
      "cell_type": "code",
      "source": [
        "from functools import reduce\n",
        "input_list= [65,76,87,23,12,90,99]\n",
        "s= reduce(lambda x,y: max(x,y),input_list)\n",
        "print(s)\n"
      ],
      "metadata": {
        "colab": {
          "base_uri": "https://localhost:8080/"
        },
        "id": "_pSVoJ5RwUCY",
        "outputId": "05ffcdbe-463c-497a-cb44-94937a0d7453"
      },
      "execution_count": null,
      "outputs": [
        {
          "output_type": "stream",
          "name": "stdout",
          "text": [
            "99\n"
          ]
        }
      ]
    },
    {
      "cell_type": "code",
      "source": [
        "students_data = {1:['Sam', 15] , 2:['Rob',18], 3:['Kyle', 16], 4:['Cornor',19], 5:['Trump',20]}\n",
        "L=students_data.keys()\n",
        "print(list(L))"
      ],
      "metadata": {
        "colab": {
          "base_uri": "https://localhost:8080/"
        },
        "id": "uw36OXQnwXhT",
        "outputId": "6dfa4a2a-152b-4fa6-f523-6d85ae37fb92"
      },
      "execution_count": null,
      "outputs": [
        {
          "output_type": "stream",
          "name": "stdout",
          "text": [
            "[1, 2, 3, 4, 5]\n"
          ]
        }
      ]
    },
    {
      "cell_type": "code",
      "source": [
        "output_dict= {val : val**3 for val in range(1,100) if val % 3 == 0}\n",
        "print(output_dict)"
      ],
      "metadata": {
        "colab": {
          "base_uri": "https://localhost:8080/"
        },
        "id": "y27K-92ywfTM",
        "outputId": "9fbd2bb2-ba58-42bc-eed0-b050d21e3037"
      },
      "execution_count": null,
      "outputs": [
        {
          "output_type": "stream",
          "name": "stdout",
          "text": [
            "{3: 27, 6: 216, 9: 729, 12: 1728, 15: 3375, 18: 5832, 21: 9261, 24: 13824, 27: 19683, 30: 27000, 33: 35937, 36: 46656, 39: 59319, 42: 74088, 45: 91125, 48: 110592, 51: 132651, 54: 157464, 57: 185193, 60: 216000, 63: 250047, 66: 287496, 69: 328509, 72: 373248, 75: 421875, 78: 474552, 81: 531441, 84: 592704, 87: 658503, 90: 729000, 93: 804357, 96: 884736, 99: 970299}\n"
          ]
        }
      ]
    },
    {
      "cell_type": "code",
      "source": [
        "Word=input(\"Word: \")\n",
        "red=0\n",
        "blue=0\n",
        "for char in Word:\n",
        "    if char=='b':\n",
        "        print(\"Word belongs to blue team\")\n",
        "        blue=1\n",
        "        break\n",
        "    elif char=='r':\n",
        "        print(\"Word belongs to red team\")\n",
        "        red=1\n",
        "        break\n",
        "if red==0 and blue==0:\n",
        "    print(\"Word does not belong to the team\")"
      ],
      "metadata": {
        "colab": {
          "base_uri": "https://localhost:8080/"
        },
        "id": "Nkq5WBHOwlTH",
        "outputId": "21548607-58fd-4fc3-e74e-a94f361dff2d"
      },
      "execution_count": null,
      "outputs": [
        {
          "output_type": "stream",
          "name": "stdout",
          "text": [
            "Word: break\n",
            "Word belongs to blue team\n"
          ]
        }
      ]
    },
    {
      "cell_type": "code",
      "source": [
        "n=int(input(\"Number:\"))\n",
        "L=list(range(1,n+1))\n",
        "divby17= lambda x:x%17==0\n",
        "newL=filter(divby17,L)\n",
        "print(list(newL))"
      ],
      "metadata": {
        "colab": {
          "base_uri": "https://localhost:8080/"
        },
        "id": "2JcTt9soxlKd",
        "outputId": "ec455544-91d5-466a-9a27-7a0b5a3dc307"
      },
      "execution_count": null,
      "outputs": [
        {
          "output_type": "stream",
          "name": "stdout",
          "text": [
            "Number:100\n",
            "[17, 34, 51, 68, 85]\n"
          ]
        }
      ]
    },
    {
      "cell_type": "code",
      "source": [
        "sample_list = [6, 98, 34, 45, 64, 7, 2, 5, 78, 90, 324, 111, 657, 438]\n",
        "L=[]\n",
        "for i in sample_list:\n",
        "    L.append(i+13)\n",
        "L\n"
      ],
      "metadata": {
        "colab": {
          "base_uri": "https://localhost:8080/"
        },
        "id": "EsqJZsp8xq_x",
        "outputId": "a9574963-cf49-40cc-f584-ab9d022cdc24"
      },
      "execution_count": null,
      "outputs": [
        {
          "output_type": "execute_result",
          "data": {
            "text/plain": [
              "[19, 111, 47, 58, 77, 20, 15, 18, 91, 103, 337, 124, 670, 451]"
            ]
          },
          "metadata": {},
          "execution_count": 10
        }
      ]
    },
    {
      "cell_type": "code",
      "source": [
        "sample_list = [6, 98, 34, 45, 64, 7, 2, 5, 78, 90, 324, 111, 657, 438]\n",
        "L=[i+13 for i in sample_list]\n",
        "L"
      ],
      "metadata": {
        "colab": {
          "base_uri": "https://localhost:8080/"
        },
        "id": "fUWRmmg3xuM4",
        "outputId": "c4b757db-bc69-4551-9fdb-de97d201c44c"
      },
      "execution_count": null,
      "outputs": [
        {
          "output_type": "execute_result",
          "data": {
            "text/plain": [
              "[19, 111, 47, 58, 77, 20, 15, 18, 91, 103, 337, 124, 670, 451]"
            ]
          },
          "metadata": {},
          "execution_count": 11
        }
      ]
    },
    {
      "cell_type": "code",
      "source": [
        "sample_list = [6, 98, 34, 45, 64, 7, 2, 5, 78, 90, 324, 111, 657, 438]\n",
        "dict={}\n",
        "for i in sample_list:\n",
        "    L=[]\n",
        "    for num in range(1,i+1):\n",
        "        if(i%num==0):\n",
        "            L.append(num)\n",
        "    dict[i]=L\n",
        "print(dict)"
      ],
      "metadata": {
        "colab": {
          "base_uri": "https://localhost:8080/"
        },
        "id": "7TwQn-qFxwaz",
        "outputId": "60540618-d17d-4659-d805-95a717550d65"
      },
      "execution_count": null,
      "outputs": [
        {
          "output_type": "stream",
          "name": "stdout",
          "text": [
            "{6: [1, 2, 3, 6], 98: [1, 2, 7, 14, 49, 98], 34: [1, 2, 17, 34], 45: [1, 3, 5, 9, 15, 45], 64: [1, 2, 4, 8, 16, 32, 64], 7: [1, 7], 2: [1, 2], 5: [1, 5], 78: [1, 2, 3, 6, 13, 26, 39, 78], 90: [1, 2, 3, 5, 6, 9, 10, 15, 18, 30, 45, 90], 324: [1, 2, 3, 4, 6, 9, 12, 18, 27, 36, 54, 81, 108, 162, 324], 111: [1, 3, 37, 111], 657: [1, 3, 9, 73, 219, 657], 438: [1, 2, 3, 6, 73, 146, 219, 438]}\n"
          ]
        }
      ]
    },
    {
      "cell_type": "code",
      "source": [
        "sample_sentence = \"Pack my box with five dozen liquor jugs\"\n",
        "new=set(sample_sentence)\n",
        "print(set(new))\n",
        "len(new)\n",
        " "
      ],
      "metadata": {
        "colab": {
          "base_uri": "https://localhost:8080/"
        },
        "id": "GYgk85Vmx2G8",
        "outputId": "8bdae559-f2fa-4d3d-c122-0ac213b02141"
      },
      "execution_count": null,
      "outputs": [
        {
          "output_type": "stream",
          "name": "stdout",
          "text": [
            "{'c', 'y', 'a', 'g', 'r', 's', 'u', 'j', 'o', 'n', 'f', 'd', 'z', 'P', 'w', 'b', 'i', 'h', 'x', 't', 'q', 'e', 'v', 'm', 'l', 'k', ' '}\n"
          ]
        },
        {
          "output_type": "execute_result",
          "data": {
            "text/plain": [
              "27"
            ]
          },
          "metadata": {},
          "execution_count": 13
        }
      ]
    },
    {
      "cell_type": "code",
      "source": [
        "num = input(\"Enter three numbers :\")\n",
        "\n",
        "num_list = num.split()\n",
        "print(num_list)\n",
        "a = int(num_list[0])\n",
        "b = int(num_list[1])\n",
        "c = int(num_list[2])\n",
        "d=max(a,b,c)\n",
        "d"
      ],
      "metadata": {
        "colab": {
          "base_uri": "https://localhost:8080/"
        },
        "id": "eY5OEY35yC4Z",
        "outputId": "b5475be8-54a5-4f03-9ae2-5b99007a79cd"
      },
      "execution_count": null,
      "outputs": [
        {
          "output_type": "stream",
          "name": "stdout",
          "text": [
            "Enter three numbers :55 12 44\n",
            "['55', '12', '44']\n"
          ]
        },
        {
          "output_type": "execute_result",
          "data": {
            "text/plain": [
              "55"
            ]
          },
          "metadata": {},
          "execution_count": 14
        }
      ]
    },
    {
      "cell_type": "code",
      "source": [
        "n=int(input(\"Number: \"))\n",
        "sum=0\n",
        "for i in range(1,n):\n",
        "    if n%i==0:\n",
        "        sum=sum+i\n",
        "if sum==n:\n",
        "    print(\"It is a perfect number\")\n",
        "else:\n",
        "    print(\"It is not a perfect number\")\n",
        "    "
      ],
      "metadata": {
        "colab": {
          "base_uri": "https://localhost:8080/"
        },
        "id": "Qzw2pVi0yFkh",
        "outputId": "c0c1173f-b2e6-4c01-e299-75962487f745"
      },
      "execution_count": null,
      "outputs": [
        {
          "output_type": "stream",
          "name": "stdout",
          "text": [
            "Number: 6\n",
            "It is a perfect number\n"
          ]
        }
      ]
    },
    {
      "cell_type": "code",
      "source": [
        "list1 = [5, 8, 9, 12]\n",
        "list2 = [10, 12, 8, 6]\n",
        "newlist=map(lambda x,y:x+y,list1,list2)\n",
        "print(list(newlist))"
      ],
      "metadata": {
        "colab": {
          "base_uri": "https://localhost:8080/"
        },
        "id": "sxEref9gyTxP",
        "outputId": "c8dde281-cc02-4087-9412-294ab43d3b55"
      },
      "execution_count": null,
      "outputs": [
        {
          "output_type": "stream",
          "name": "stdout",
          "text": [
            "[15, 20, 17, 18]\n"
          ]
        }
      ]
    },
    {
      "cell_type": "code",
      "source": [
        "\n",
        "def factorial(n):\n",
        "    fact=1\n",
        "    for i in range(1,n+1):\n",
        "        fact=fact*i\n",
        "    return fact\n",
        "factorial(5)"
      ],
      "metadata": {
        "colab": {
          "base_uri": "https://localhost:8080/"
        },
        "id": "UYq3A3TSyopI",
        "outputId": "e1b486e3-f8b0-4898-d574-aea4ad4fd99a"
      },
      "execution_count": null,
      "outputs": [
        {
          "output_type": "execute_result",
          "data": {
            "text/plain": [
              "120"
            ]
          },
          "metadata": {},
          "execution_count": 19
        }
      ]
    },
    {
      "cell_type": "code",
      "source": [
        "from functools import reduce\n",
        "n=int(input())\n",
        "fact=reduce(lambda x,y:x*y,range(1,n+1))\n",
        "print(fact)"
      ],
      "metadata": {
        "colab": {
          "base_uri": "https://localhost:8080/"
        },
        "id": "nh7jBhBGytns",
        "outputId": "5a80c669-4a04-4762-c53e-a9dfe0b9ce85"
      },
      "execution_count": null,
      "outputs": [
        {
          "output_type": "stream",
          "name": "stdout",
          "text": [
            "5\n",
            "120\n"
          ]
        }
      ]
    },
    {
      "cell_type": "code",
      "source": [],
      "metadata": {
        "id": "XMzXrmBPZFus"
      },
      "execution_count": null,
      "outputs": []
    }
  ]
}